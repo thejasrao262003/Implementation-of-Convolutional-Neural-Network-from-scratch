{
  "nbformat": 4,
  "nbformat_minor": 0,
  "metadata": {
    "colab": {
      "provenance": [],
      "gpuType": "T4",
      "mount_file_id": "1aFlDiUMGChzbyjdBvPEK1JUrrugMeXct",
      "authorship_tag": "ABX9TyPVzi780RRIAp+daRKJOJyH",
      "include_colab_link": true
    },
    "kernelspec": {
      "name": "python3",
      "display_name": "Python 3"
    },
    "language_info": {
      "name": "python"
    },
    "accelerator": "GPU"
  },
  "cells": [
    {
      "cell_type": "markdown",
      "metadata": {
        "id": "view-in-github",
        "colab_type": "text"
      },
      "source": [
        "<a href=\"https://colab.research.google.com/github/thejasrao262003/Implementation-of-Convolutional-Neural-Network-from-scratch/blob/main/CNN.ipynb\" target=\"_parent\"><img src=\"https://colab.research.google.com/assets/colab-badge.svg\" alt=\"Open In Colab\"/></a>"
      ]
    },
    {
      "cell_type": "markdown",
      "source": [
        "## Part 1: Loading data and splitting data\n",
        "## Part 2: Building Model\n",
        "## Part 3: Training model\n",
        "## Part 4: Plotting Graphs"
      ],
      "metadata": {
        "id": "6I2yg2HOWb_r"
      }
    },
    {
      "cell_type": "code",
      "source": [
        "pip install split_folders"
      ],
      "metadata": {
        "colab": {
          "base_uri": "https://localhost:8080/"
        },
        "id": "iA1fU0jeW4_F",
        "outputId": "3a5c21b3-f34b-4226-ff9c-155a48c09d91"
      },
      "execution_count": null,
      "outputs": [
        {
          "output_type": "stream",
          "name": "stdout",
          "text": [
            "Looking in indexes: https://pypi.org/simple, https://us-python.pkg.dev/colab-wheels/public/simple/\n",
            "Collecting split_folders\n",
            "  Downloading split_folders-0.5.1-py3-none-any.whl (8.4 kB)\n",
            "Installing collected packages: split_folders\n",
            "Successfully installed split_folders-0.5.1\n"
          ]
        }
      ]
    },
    {
      "cell_type": "code",
      "source": [
        "import splitfolders\n",
        "import os"
      ],
      "metadata": {
        "id": "skXJGZLxXBD7"
      },
      "execution_count": null,
      "outputs": []
    },
    {
      "cell_type": "code",
      "source": [
        "os.chdir('/content/drive/MyDrive/AppleDataset')\n",
        "\n",
        "splitfolders.ratio(\"/content/drive/MyDrive/AppleDataset\", output=\"/content/Output\", seed=1337, ratio=(.75, .1, .15))\n"
      ],
      "metadata": {
        "colab": {
          "base_uri": "https://localhost:8080/"
        },
        "id": "LffjENVrXrUU",
        "outputId": "b32a4549-51c0-4821-e1dc-2b2ae4cd2e15"
      },
      "execution_count": null,
      "outputs": [
        {
          "output_type": "stream",
          "name": "stderr",
          "text": [
            "Copying files: 124 files [00:41,  2.96 files/s]\n"
          ]
        }
      ]
    },
    {
      "cell_type": "code",
      "source": [
        "os.chdir('../../')"
      ],
      "metadata": {
        "id": "vrdgSaYZZFB4"
      },
      "execution_count": null,
      "outputs": []
    },
    {
      "cell_type": "markdown",
      "source": [
        "## Part 2: Building Model"
      ],
      "metadata": {
        "id": "ai9_D7pDi8U9"
      }
    },
    {
      "cell_type": "code",
      "source": [
        "import tensorflow as tf\n",
        "\n",
        "train_path = '/content/Output/train'\n",
        "test_path = '/content/Output/test'\n",
        "valid_path = '/content/Output/val'\n",
        "\n",
        "train_batches = tf.keras.preprocessing.image.ImageDataGenerator(preprocessing_function=tf.keras.applications.vgg16.preprocess_input).flow_from_directory(directory=train_path, target_size=(224, 224), batch_size=10)\n",
        "valid_batches = tf.keras.preprocessing.image.ImageDataGenerator(preprocessing_function=tf.keras.applications.vgg16.preprocess_input).flow_from_directory(directory=valid_path, target_size=(224, 224), batch_size=1)\n",
        "test_batches = tf.keras.preprocessing.image.ImageDataGenerator(preprocessing_function=tf.keras.applications.vgg16.preprocess_input).flow_from_directory(directory=test_path, target_size=(224, 224), batch_size=2, shuffle=False)\n"
      ],
      "metadata": {
        "colab": {
          "base_uri": "https://localhost:8080/"
        },
        "id": "FgvDRG8AZ6ma",
        "outputId": "3dd1d8a8-00b2-407b-8a7a-9e20f3be7f0e"
      },
      "execution_count": null,
      "outputs": [
        {
          "output_type": "stream",
          "name": "stdout",
          "text": [
            "Found 90 images belonging to 4 classes.\n",
            "Found 11 images belonging to 4 classes.\n",
            "Found 23 images belonging to 4 classes.\n"
          ]
        }
      ]
    },
    {
      "cell_type": "code",
      "source": [
        "from tensorflow.keras.layers import Dense, Conv2D, MaxPooling2D, Flatten, BatchNormalization, Dropout, Input, GlobalMaxPooling2D, concatenate\n",
        "\n",
        "input_shape = Input((224, 224, 3))\n",
        "modelvgg = Conv2D(filters=64, kernel_size=(3, 3), padding='same', activation='relu')(input_shape)\n",
        "modelvgg = Conv2D(filters=64, kernel_size=(3, 3), padding='same', activation='relu')(modelvgg)\n",
        "modelvgg = MaxPooling2D(pool_size=(2,2), strides=(2,2))(modelvgg)\n",
        "\n",
        "modelvgg = Conv2D(filters=128, kernel_size=(3, 3), padding='same', activation='relu')(modelvgg)\n",
        "modelvgg = Conv2D(filters=128, kernel_size=(3, 3), padding='same', activation='relu')(modelvgg)\n",
        "modelvgg = MaxPooling2D(pool_size=(2,2), strides=(2,2))(modelvgg)\n",
        "\n",
        "modelvgg = Conv2D(filters=256, kernel_size=(3, 3), padding='same', activation='relu')(modelvgg)\n",
        "modelvgg = Conv2D(filters=256, kernel_size=(3, 3), padding='same', activation='relu')(modelvgg)\n",
        "modelvgg = Conv2D(filters=256, kernel_size=(3, 3), padding='same', activation='relu')(modelvgg)\n",
        "modelvgg = MaxPooling2D(pool_size=(2,2), strides=(2,2))(modelvgg)\n",
        "\n",
        "modelvgg = Conv2D(filters=512, kernel_size=(3, 3), padding='same', activation='relu')(modelvgg)\n",
        "modelvgg = Conv2D(filters=512, kernel_size=(3, 3), padding='same', activation='relu')(modelvgg)\n",
        "modelvgg = Conv2D(filters=512, kernel_size=(3, 3), padding='same', activation='relu')(modelvgg)\n",
        "modelvgg = MaxPooling2D(pool_size=(2,2), strides=(2,2))(modelvgg)\n",
        "\n",
        "modelvgg = Conv2D(filters=512, kernel_size=(3, 3), padding='same', activation='relu')(modelvgg)\n",
        "modelvgg = Conv2D(filters=512, kernel_size=(3, 3), padding='same', activation='relu')(modelvgg)\n",
        "modelvgg = Conv2D(filters=512, kernel_size=(3, 3), padding='same', activation='relu')(modelvgg)\n",
        "modelvgg = MaxPooling2D(pool_size=(2,2), strides=(2,2))(modelvgg)\n",
        "\n",
        "modelvgg = Flatten()(modelvgg)\n",
        "modelvgg = Dense(units=4096, activation='relu')(modelvgg)\n",
        "modelvgg = Dense(units=4096, activation='relu')(modelvgg)\n",
        "modelvgg = Dense(units=4, activation='softmax')(modelvgg)"
      ],
      "metadata": {
        "id": "nzsGwaS3diFH"
      },
      "execution_count": null,
      "outputs": []
    },
    {
      "cell_type": "code",
      "source": [
        "from tensorflow.keras import Model\n",
        "model = Model(inputs=input_shape, outputs=modelvgg)\n",
        "model.summary()"
      ],
      "metadata": {
        "colab": {
          "base_uri": "https://localhost:8080/"
        },
        "id": "VHxPnSR7iyIi",
        "outputId": "9c86187d-6b90-49d4-d312-a4558fd8c301"
      },
      "execution_count": null,
      "outputs": [
        {
          "output_type": "stream",
          "name": "stdout",
          "text": [
            "Model: \"model\"\n",
            "_________________________________________________________________\n",
            " Layer (type)                Output Shape              Param #   \n",
            "=================================================================\n",
            " input_1 (InputLayer)        [(None, 224, 224, 3)]     0         \n",
            "                                                                 \n",
            " conv2d (Conv2D)             (None, 224, 224, 64)      1792      \n",
            "                                                                 \n",
            " conv2d_1 (Conv2D)           (None, 224, 224, 64)      36928     \n",
            "                                                                 \n",
            " max_pooling2d (MaxPooling2D  (None, 112, 112, 64)     0         \n",
            " )                                                               \n",
            "                                                                 \n",
            " conv2d_2 (Conv2D)           (None, 112, 112, 128)     73856     \n",
            "                                                                 \n",
            " conv2d_3 (Conv2D)           (None, 112, 112, 128)     147584    \n",
            "                                                                 \n",
            " max_pooling2d_1 (MaxPooling  (None, 56, 56, 128)      0         \n",
            " 2D)                                                             \n",
            "                                                                 \n",
            " conv2d_4 (Conv2D)           (None, 56, 56, 256)       295168    \n",
            "                                                                 \n",
            " conv2d_5 (Conv2D)           (None, 56, 56, 256)       590080    \n",
            "                                                                 \n",
            " conv2d_6 (Conv2D)           (None, 56, 56, 256)       590080    \n",
            "                                                                 \n",
            " max_pooling2d_2 (MaxPooling  (None, 28, 28, 256)      0         \n",
            " 2D)                                                             \n",
            "                                                                 \n",
            " conv2d_7 (Conv2D)           (None, 28, 28, 512)       1180160   \n",
            "                                                                 \n",
            " conv2d_8 (Conv2D)           (None, 28, 28, 512)       2359808   \n",
            "                                                                 \n",
            " conv2d_9 (Conv2D)           (None, 28, 28, 512)       2359808   \n",
            "                                                                 \n",
            " max_pooling2d_3 (MaxPooling  (None, 14, 14, 512)      0         \n",
            " 2D)                                                             \n",
            "                                                                 \n",
            " conv2d_10 (Conv2D)          (None, 14, 14, 512)       2359808   \n",
            "                                                                 \n",
            " conv2d_11 (Conv2D)          (None, 14, 14, 512)       2359808   \n",
            "                                                                 \n",
            " conv2d_12 (Conv2D)          (None, 14, 14, 512)       2359808   \n",
            "                                                                 \n",
            " max_pooling2d_4 (MaxPooling  (None, 7, 7, 512)        0         \n",
            " 2D)                                                             \n",
            "                                                                 \n",
            " flatten (Flatten)           (None, 25088)             0         \n",
            "                                                                 \n",
            " dense (Dense)               (None, 4096)              102764544 \n",
            "                                                                 \n",
            " dense_1 (Dense)             (None, 4096)              16781312  \n",
            "                                                                 \n",
            " dense_2 (Dense)             (None, 4)                 16388     \n",
            "                                                                 \n",
            "=================================================================\n",
            "Total params: 134,276,932\n",
            "Trainable params: 134,276,932\n",
            "Non-trainable params: 0\n",
            "_________________________________________________________________\n"
          ]
        }
      ]
    },
    {
      "cell_type": "markdown",
      "source": [
        "## Part 3: Training Model"
      ],
      "metadata": {
        "id": "gW5U1ua4lMx9"
      }
    },
    {
      "cell_type": "code",
      "source": [
        "model.compile(optimizer='rmsprop', loss='categorical_crossentropy', metrics=['accuracy'])\n",
        "\n",
        "model_fit = model.fit(train_batches, epochs=100, validation_data = valid_batches, batch_size=2, verbose=1)"
      ],
      "metadata": {
        "colab": {
          "base_uri": "https://localhost:8080/"
        },
        "id": "Yef9szfclQ-j",
        "outputId": "d33b947c-63e5-4bfd-e593-9dbbbbe8a2de"
      },
      "execution_count": null,
      "outputs": [
        {
          "output_type": "stream",
          "name": "stdout",
          "text": [
            "Epoch 1/100\n",
            "9/9 [==============================] - 23s 279ms/step - loss: 71758.5859 - accuracy: 0.2556 - val_loss: 1.3825 - val_accuracy: 0.2727\n",
            "Epoch 2/100\n",
            "9/9 [==============================] - 2s 184ms/step - loss: 1.4014 - accuracy: 0.1889 - val_loss: 1.3813 - val_accuracy: 0.2727\n",
            "Epoch 3/100\n",
            "9/9 [==============================] - 2s 182ms/step - loss: 1.3851 - accuracy: 0.2667 - val_loss: 1.3782 - val_accuracy: 0.2727\n",
            "Epoch 4/100\n",
            "9/9 [==============================] - 2s 190ms/step - loss: 1.3876 - accuracy: 0.2333 - val_loss: 1.3766 - val_accuracy: 0.2727\n",
            "Epoch 5/100\n",
            "9/9 [==============================] - 2s 187ms/step - loss: 1.3895 - accuracy: 0.2222 - val_loss: 1.3786 - val_accuracy: 0.2727\n",
            "Epoch 6/100\n",
            "9/9 [==============================] - 2s 183ms/step - loss: 1.3851 - accuracy: 0.2444 - val_loss: 1.3762 - val_accuracy: 0.1818\n",
            "Epoch 7/100\n",
            "9/9 [==============================] - 2s 183ms/step - loss: 1.3837 - accuracy: 0.2111 - val_loss: 1.3367 - val_accuracy: 0.1818\n",
            "Epoch 8/100\n",
            "9/9 [==============================] - 2s 183ms/step - loss: 1.6655 - accuracy: 0.2444 - val_loss: 1.3805 - val_accuracy: 0.2727\n",
            "Epoch 9/100\n",
            "9/9 [==============================] - 2s 183ms/step - loss: 1.3975 - accuracy: 0.2778 - val_loss: 1.3806 - val_accuracy: 0.2727\n",
            "Epoch 10/100\n",
            "9/9 [==============================] - 2s 189ms/step - loss: 1.3862 - accuracy: 0.2000 - val_loss: 1.3783 - val_accuracy: 0.2727\n",
            "Epoch 11/100\n",
            "9/9 [==============================] - 2s 192ms/step - loss: 1.3850 - accuracy: 0.2556 - val_loss: 1.3773 - val_accuracy: 0.2727\n",
            "Epoch 12/100\n",
            "9/9 [==============================] - 2s 192ms/step - loss: 1.3860 - accuracy: 0.2444 - val_loss: 1.3769 - val_accuracy: 0.2727\n",
            "Epoch 13/100\n",
            "9/9 [==============================] - 2s 185ms/step - loss: 1.3827 - accuracy: 0.1889 - val_loss: 1.3759 - val_accuracy: 0.2727\n",
            "Epoch 14/100\n",
            "9/9 [==============================] - 2s 186ms/step - loss: 1.3829 - accuracy: 0.2444 - val_loss: 1.3753 - val_accuracy: 0.2727\n",
            "Epoch 15/100\n",
            "9/9 [==============================] - 2s 186ms/step - loss: 1.3821 - accuracy: 0.2556 - val_loss: 1.3754 - val_accuracy: 0.2727\n",
            "Epoch 16/100\n",
            "9/9 [==============================] - 2s 186ms/step - loss: 1.3856 - accuracy: 0.2333 - val_loss: 1.3749 - val_accuracy: 0.2727\n",
            "Epoch 17/100\n",
            "9/9 [==============================] - 2s 190ms/step - loss: 1.3827 - accuracy: 0.2333 - val_loss: 1.3748 - val_accuracy: 0.2727\n",
            "Epoch 18/100\n",
            "9/9 [==============================] - 2s 211ms/step - loss: 1.3826 - accuracy: 0.2333 - val_loss: 1.3745 - val_accuracy: 0.2727\n",
            "Epoch 19/100\n",
            "9/9 [==============================] - 2s 187ms/step - loss: 1.3860 - accuracy: 0.1667 - val_loss: 1.3746 - val_accuracy: 0.2727\n",
            "Epoch 20/100\n",
            "9/9 [==============================] - 2s 186ms/step - loss: 1.3824 - accuracy: 0.2333 - val_loss: 1.3744 - val_accuracy: 0.2727\n",
            "Epoch 21/100\n",
            "9/9 [==============================] - 2s 186ms/step - loss: 1.3824 - accuracy: 0.2111 - val_loss: 1.3748 - val_accuracy: 0.2727\n",
            "Epoch 22/100\n",
            "9/9 [==============================] - 2s 186ms/step - loss: 1.3837 - accuracy: 0.2333 - val_loss: 1.3748 - val_accuracy: 0.2727\n",
            "Epoch 23/100\n",
            "9/9 [==============================] - 2s 186ms/step - loss: 1.3833 - accuracy: 0.2444 - val_loss: 1.3749 - val_accuracy: 0.2727\n",
            "Epoch 24/100\n",
            "9/9 [==============================] - 2s 192ms/step - loss: 1.3835 - accuracy: 0.2111 - val_loss: 1.3751 - val_accuracy: 0.2727\n",
            "Epoch 25/100\n",
            "9/9 [==============================] - 2s 188ms/step - loss: 1.3844 - accuracy: 0.2556 - val_loss: 1.3755 - val_accuracy: 0.2727\n",
            "Epoch 26/100\n",
            "9/9 [==============================] - 2s 187ms/step - loss: 1.3827 - accuracy: 0.2000 - val_loss: 1.3752 - val_accuracy: 0.2727\n",
            "Epoch 27/100\n",
            "9/9 [==============================] - 2s 186ms/step - loss: 1.3841 - accuracy: 0.2222 - val_loss: 1.3753 - val_accuracy: 0.2727\n",
            "Epoch 28/100\n",
            "9/9 [==============================] - 2s 187ms/step - loss: 1.3830 - accuracy: 0.1889 - val_loss: 1.3748 - val_accuracy: 0.2727\n",
            "Epoch 29/100\n",
            "9/9 [==============================] - 2s 188ms/step - loss: 1.3847 - accuracy: 0.2444 - val_loss: 1.3751 - val_accuracy: 0.2727\n",
            "Epoch 30/100\n",
            "9/9 [==============================] - 2s 194ms/step - loss: 2.4605 - accuracy: 0.2444 - val_loss: 1.3736 - val_accuracy: 0.2727\n",
            "Epoch 31/100\n",
            "9/9 [==============================] - 2s 193ms/step - loss: 1.3955 - accuracy: 0.2667 - val_loss: 1.3756 - val_accuracy: 0.2727\n",
            "Epoch 32/100\n",
            "9/9 [==============================] - 2s 199ms/step - loss: 1.3824 - accuracy: 0.2667 - val_loss: 1.3755 - val_accuracy: 0.2727\n",
            "Epoch 33/100\n",
            "9/9 [==============================] - 2s 189ms/step - loss: 1.3837 - accuracy: 0.2444 - val_loss: 1.3753 - val_accuracy: 0.2727\n",
            "Epoch 34/100\n",
            "9/9 [==============================] - 2s 192ms/step - loss: 1.3827 - accuracy: 0.2444 - val_loss: 1.3750 - val_accuracy: 0.2727\n",
            "Epoch 35/100\n",
            "9/9 [==============================] - 2s 214ms/step - loss: 1.3821 - accuracy: 0.2222 - val_loss: 1.3751 - val_accuracy: 0.2727\n",
            "Epoch 36/100\n",
            "9/9 [==============================] - 2s 187ms/step - loss: 1.3826 - accuracy: 0.2333 - val_loss: 1.3750 - val_accuracy: 0.2727\n",
            "Epoch 37/100\n",
            "9/9 [==============================] - 2s 188ms/step - loss: 1.3826 - accuracy: 0.2444 - val_loss: 1.3750 - val_accuracy: 0.2727\n",
            "Epoch 38/100\n",
            "9/9 [==============================] - 2s 197ms/step - loss: 1.3817 - accuracy: 0.2333 - val_loss: 1.3748 - val_accuracy: 0.2727\n",
            "Epoch 39/100\n",
            "9/9 [==============================] - 2s 188ms/step - loss: 1.3828 - accuracy: 0.2444 - val_loss: 1.3747 - val_accuracy: 0.2727\n",
            "Epoch 40/100\n",
            "9/9 [==============================] - 2s 188ms/step - loss: 1.3847 - accuracy: 0.2333 - val_loss: 1.3747 - val_accuracy: 0.2727\n",
            "Epoch 41/100\n",
            "9/9 [==============================] - 2s 188ms/step - loss: 1.3830 - accuracy: 0.1778 - val_loss: 1.3748 - val_accuracy: 0.2727\n",
            "Epoch 42/100\n",
            "9/9 [==============================] - 2s 188ms/step - loss: 1.3839 - accuracy: 0.1111 - val_loss: 1.3750 - val_accuracy: 0.2727\n",
            "Epoch 43/100\n",
            "9/9 [==============================] - 2s 191ms/step - loss: 1.3833 - accuracy: 0.2000 - val_loss: 1.3753 - val_accuracy: 0.2727\n",
            "Epoch 44/100\n",
            "9/9 [==============================] - 2s 193ms/step - loss: 1.3826 - accuracy: 0.2556 - val_loss: 1.3751 - val_accuracy: 0.2727\n",
            "Epoch 45/100\n",
            "9/9 [==============================] - 2s 216ms/step - loss: 1.3823 - accuracy: 0.2111 - val_loss: 1.3753 - val_accuracy: 0.2727\n",
            "Epoch 46/100\n",
            "9/9 [==============================] - 2s 189ms/step - loss: 1.3834 - accuracy: 0.2111 - val_loss: 1.3752 - val_accuracy: 0.2727\n",
            "Epoch 47/100\n",
            "9/9 [==============================] - 2s 191ms/step - loss: 1.3827 - accuracy: 0.1889 - val_loss: 1.3751 - val_accuracy: 0.2727\n",
            "Epoch 48/100\n",
            "9/9 [==============================] - 2s 191ms/step - loss: 1.3835 - accuracy: 0.2111 - val_loss: 1.3750 - val_accuracy: 0.2727\n",
            "Epoch 49/100\n",
            "9/9 [==============================] - 2s 189ms/step - loss: 1.3824 - accuracy: 0.2111 - val_loss: 1.3749 - val_accuracy: 0.2727\n",
            "Epoch 50/100\n",
            "9/9 [==============================] - 2s 189ms/step - loss: 1.3831 - accuracy: 0.2222 - val_loss: 1.3750 - val_accuracy: 0.2727\n",
            "Epoch 51/100\n",
            "9/9 [==============================] - 2s 193ms/step - loss: 1.3820 - accuracy: 0.2222 - val_loss: 1.3749 - val_accuracy: 0.2727\n",
            "Epoch 52/100\n",
            "9/9 [==============================] - 2s 195ms/step - loss: 1.3828 - accuracy: 0.2556 - val_loss: 1.3749 - val_accuracy: 0.2727\n",
            "Epoch 53/100\n",
            "9/9 [==============================] - 2s 189ms/step - loss: 1.3826 - accuracy: 0.1889 - val_loss: 1.3749 - val_accuracy: 0.2727\n",
            "Epoch 54/100\n",
            "9/9 [==============================] - 2s 190ms/step - loss: 1.3821 - accuracy: 0.2333 - val_loss: 1.3748 - val_accuracy: 0.2727\n",
            "Epoch 55/100\n",
            "9/9 [==============================] - 2s 190ms/step - loss: 1.3823 - accuracy: 0.2111 - val_loss: 1.3749 - val_accuracy: 0.2727\n",
            "Epoch 56/100\n",
            "9/9 [==============================] - 2s 189ms/step - loss: 1.3810 - accuracy: 0.2333 - val_loss: 1.3748 - val_accuracy: 0.2727\n",
            "Epoch 57/100\n",
            "9/9 [==============================] - 2s 196ms/step - loss: 1.3820 - accuracy: 0.2333 - val_loss: 1.3748 - val_accuracy: 0.2727\n",
            "Epoch 58/100\n",
            "9/9 [==============================] - 2s 191ms/step - loss: 1.3817 - accuracy: 0.2222 - val_loss: 1.3748 - val_accuracy: 0.2727\n",
            "Epoch 59/100\n",
            "9/9 [==============================] - 2s 188ms/step - loss: 1.3812 - accuracy: 0.1778 - val_loss: 1.3747 - val_accuracy: 0.2727\n",
            "Epoch 60/100\n",
            "9/9 [==============================] - 2s 187ms/step - loss: 1.3827 - accuracy: 0.1889 - val_loss: 1.3746 - val_accuracy: 0.2727\n",
            "Epoch 61/100\n",
            "9/9 [==============================] - 2s 188ms/step - loss: 1.3818 - accuracy: 0.2444 - val_loss: 1.3746 - val_accuracy: 0.2727\n",
            "Epoch 62/100\n",
            "9/9 [==============================] - 2s 188ms/step - loss: 1.3810 - accuracy: 0.1889 - val_loss: 1.3744 - val_accuracy: 0.2727\n",
            "Epoch 63/100\n",
            "9/9 [==============================] - 2s 189ms/step - loss: 1.3813 - accuracy: 0.2111 - val_loss: 1.3744 - val_accuracy: 0.2727\n",
            "Epoch 64/100\n",
            "9/9 [==============================] - 2s 195ms/step - loss: 1.3808 - accuracy: 0.2667 - val_loss: 1.3743 - val_accuracy: 0.2727\n",
            "Epoch 65/100\n",
            "9/9 [==============================] - 2s 188ms/step - loss: 1.3830 - accuracy: 0.2667 - val_loss: 1.3742 - val_accuracy: 0.2727\n",
            "Epoch 66/100\n",
            "9/9 [==============================] - 2s 188ms/step - loss: 1.3823 - accuracy: 0.1889 - val_loss: 1.3743 - val_accuracy: 0.2727\n",
            "Epoch 67/100\n",
            "9/9 [==============================] - 2s 188ms/step - loss: 1.3821 - accuracy: 0.2222 - val_loss: 1.3744 - val_accuracy: 0.2727\n",
            "Epoch 68/100\n",
            "9/9 [==============================] - 2s 187ms/step - loss: 1.3812 - accuracy: 0.2556 - val_loss: 1.3745 - val_accuracy: 0.2727\n",
            "Epoch 69/100\n",
            "9/9 [==============================] - 2s 190ms/step - loss: 1.3822 - accuracy: 0.2000 - val_loss: 1.3744 - val_accuracy: 0.2727\n",
            "Epoch 70/100\n",
            "9/9 [==============================] - 2s 213ms/step - loss: 1.3821 - accuracy: 0.2111 - val_loss: 1.3746 - val_accuracy: 0.2727\n",
            "Epoch 71/100\n",
            "9/9 [==============================] - 2s 187ms/step - loss: 1.3814 - accuracy: 0.1889 - val_loss: 1.3746 - val_accuracy: 0.2727\n",
            "Epoch 72/100\n",
            "9/9 [==============================] - 2s 187ms/step - loss: 1.3816 - accuracy: 0.1889 - val_loss: 1.3747 - val_accuracy: 0.2727\n",
            "Epoch 73/100\n",
            "9/9 [==============================] - 2s 187ms/step - loss: 1.3823 - accuracy: 0.1889 - val_loss: 1.3746 - val_accuracy: 0.2727\n",
            "Epoch 74/100\n",
            "9/9 [==============================] - 2s 188ms/step - loss: 1.3810 - accuracy: 0.2222 - val_loss: 1.3744 - val_accuracy: 0.2727\n",
            "Epoch 75/100\n",
            "9/9 [==============================] - 2s 210ms/step - loss: 1.3817 - accuracy: 0.2556 - val_loss: 1.3744 - val_accuracy: 0.2727\n",
            "Epoch 76/100\n",
            "9/9 [==============================] - 2s 212ms/step - loss: 1.3806 - accuracy: 0.2111 - val_loss: 1.3745 - val_accuracy: 0.2727\n",
            "Epoch 77/100\n",
            "9/9 [==============================] - 2s 186ms/step - loss: 1.3814 - accuracy: 0.2111 - val_loss: 1.3745 - val_accuracy: 0.2727\n",
            "Epoch 78/100\n",
            "9/9 [==============================] - 2s 186ms/step - loss: 1.3827 - accuracy: 0.1333 - val_loss: 1.3747 - val_accuracy: 0.2727\n",
            "Epoch 79/100\n",
            "9/9 [==============================] - 2s 187ms/step - loss: 1.3821 - accuracy: 0.2111 - val_loss: 1.3747 - val_accuracy: 0.2727\n",
            "Epoch 80/100\n",
            "9/9 [==============================] - 2s 188ms/step - loss: 1.3810 - accuracy: 0.2111 - val_loss: 1.3745 - val_accuracy: 0.2727\n",
            "Epoch 81/100\n",
            "9/9 [==============================] - 2s 221ms/step - loss: 1.3820 - accuracy: 0.2444 - val_loss: 1.3745 - val_accuracy: 0.2727\n",
            "Epoch 82/100\n",
            "9/9 [==============================] - 2s 217ms/step - loss: 1.3805 - accuracy: 0.2667 - val_loss: 1.3745 - val_accuracy: 0.2727\n",
            "Epoch 83/100\n",
            "9/9 [==============================] - 2s 218ms/step - loss: 1.3827 - accuracy: 0.2111 - val_loss: 1.3747 - val_accuracy: 0.2727\n",
            "Epoch 84/100\n",
            "9/9 [==============================] - 2s 197ms/step - loss: 1.3805 - accuracy: 0.2667 - val_loss: 1.3745 - val_accuracy: 0.2727\n",
            "Epoch 85/100\n",
            "9/9 [==============================] - 2s 217ms/step - loss: 1.3814 - accuracy: 0.1889 - val_loss: 1.3744 - val_accuracy: 0.2727\n",
            "Epoch 86/100\n",
            "9/9 [==============================] - 2s 195ms/step - loss: 1.3805 - accuracy: 0.2667 - val_loss: 1.3745 - val_accuracy: 0.2727\n",
            "Epoch 87/100\n",
            "9/9 [==============================] - 2s 227ms/step - loss: 1.3823 - accuracy: 0.1556 - val_loss: 1.3746 - val_accuracy: 0.2727\n",
            "Epoch 88/100\n",
            "9/9 [==============================] - 2s 221ms/step - loss: 1.3812 - accuracy: 0.2222 - val_loss: 1.3746 - val_accuracy: 0.2727\n",
            "Epoch 89/100\n",
            "9/9 [==============================] - 2s 191ms/step - loss: 1.3818 - accuracy: 0.2444 - val_loss: 1.3746 - val_accuracy: 0.2727\n",
            "Epoch 90/100\n",
            "9/9 [==============================] - 2s 190ms/step - loss: 1.3807 - accuracy: 0.2333 - val_loss: 1.3748 - val_accuracy: 0.2727\n",
            "Epoch 91/100\n",
            "9/9 [==============================] - 2s 186ms/step - loss: 1.3834 - accuracy: 0.2333 - val_loss: 1.3744 - val_accuracy: 0.2727\n",
            "Epoch 92/100\n",
            "9/9 [==============================] - 2s 188ms/step - loss: 1.3812 - accuracy: 0.1667 - val_loss: 1.3743 - val_accuracy: 0.2727\n",
            "Epoch 93/100\n",
            "9/9 [==============================] - 2s 209ms/step - loss: 1.3808 - accuracy: 0.2222 - val_loss: 1.3742 - val_accuracy: 0.2727\n",
            "Epoch 94/100\n",
            "9/9 [==============================] - 2s 228ms/step - loss: 1.3811 - accuracy: 0.2444 - val_loss: 1.3744 - val_accuracy: 0.2727\n",
            "Epoch 95/100\n",
            "9/9 [==============================] - 2s 195ms/step - loss: 1.3814 - accuracy: 0.1889 - val_loss: 1.3744 - val_accuracy: 0.2727\n",
            "Epoch 96/100\n",
            "9/9 [==============================] - 2s 191ms/step - loss: 1.3810 - accuracy: 0.2444 - val_loss: 1.3745 - val_accuracy: 0.2727\n",
            "Epoch 97/100\n",
            "9/9 [==============================] - 2s 189ms/step - loss: 1.3818 - accuracy: 0.2667 - val_loss: 1.3744 - val_accuracy: 0.2727\n",
            "Epoch 98/100\n",
            "9/9 [==============================] - 2s 188ms/step - loss: 1.3807 - accuracy: 0.2000 - val_loss: 1.3745 - val_accuracy: 0.2727\n",
            "Epoch 99/100\n",
            "9/9 [==============================] - 2s 188ms/step - loss: 1.3807 - accuracy: 0.2111 - val_loss: 1.3744 - val_accuracy: 0.2727\n",
            "Epoch 100/100\n",
            "9/9 [==============================] - 2s 203ms/step - loss: 1.3818 - accuracy: 0.2333 - val_loss: 1.3743 - val_accuracy: 0.2727\n"
          ]
        }
      ]
    },
    {
      "cell_type": "code",
      "source": [
        "import matplotlib.pyplot as plt\n",
        "\n",
        "#overfitting after epoch 9\n",
        "acc = model_fit.history['accuracy']\n",
        "val_acc = model_fit.history['val_accuracy']\n",
        "loss= model_fit.history['loss']\n",
        "val_loss = model_fit.history['val_loss']\n",
        "\n",
        "epochs = range(len(acc))\n",
        "plt.plot(epochs, acc, 'r', label= \"Training acc\")\n",
        "plt.plot(epochs, val_acc, 'b', label='Validation acc')\n",
        "plt.legend()"
      ],
      "metadata": {
        "colab": {
          "base_uri": "https://localhost:8080/",
          "height": 447
        },
        "id": "KZCY1DizsMQC",
        "outputId": "84b1b76d-b9b3-4cc0-ccec-e236a18c5a00"
      },
      "execution_count": null,
      "outputs": [
        {
          "output_type": "execute_result",
          "data": {
            "text/plain": [
              "<matplotlib.legend.Legend at 0x7f9974145180>"
            ]
          },
          "metadata": {},
          "execution_count": 12
        },
        {
          "output_type": "display_data",
          "data": {
            "text/plain": [
              "<Figure size 640x480 with 1 Axes>"
            ],
            "image/png": "[encoded data removed]"
          },
          "metadata": {}
        }
      ]
    },
    {
      "cell_type": "code",
      "source": [
        "epochs = range(len(acc))\n",
        "plt.plot(epochs, loss, 'r', label= 'loss')\n",
        "plt.plot(epochs, val_loss, 'b', label='val_loss')\n",
        "plt.legend()"
      ],
      "metadata": {
        "colab": {
          "base_uri": "https://localhost:8080/",
          "height": 447
        },
        "id": "8M0kPNACt-Z6",
        "outputId": "9ac4dc83-49ca-464d-e887-9ef923fc5f11"
      },
      "execution_count": null,
      "outputs": [
        {
          "output_type": "execute_result",
          "data": {
            "text/plain": [
              "<matplotlib.legend.Legend at 0x7f98e0f442e0>"
            ]
          },
          "metadata": {},
          "execution_count": 13
        },
        {
          "output_type": "display_data",
          "data": {
            "text/plain": [
              "<Figure size 640x480 with 1 Axes>"
            ],
            "image/png": "[encoded data removed]"
          },
          "metadata": {}
        }
      ]
    }
  ]
}